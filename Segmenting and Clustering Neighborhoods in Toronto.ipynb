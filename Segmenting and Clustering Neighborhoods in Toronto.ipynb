{
 "cells": [
  {
   "cell_type": "code",
   "execution_count": 1,
   "metadata": {},
   "outputs": [],
   "source": [
    "#Importing Libraries\n",
    "from bs4 import BeautifulSoup\n",
    "import urllib3\n",
    "import pandas as pd\n",
    "import folium\n",
    "import numpy as np\n",
    "from sklearn.cluster import KMeans"
   ]
  },
  {
   "cell_type": "markdown",
   "metadata": {},
   "source": [
    "### 2. Scrapping website using Beautiful Soup"
   ]
  },
  {
   "cell_type": "code",
   "execution_count": 2,
   "metadata": {},
   "outputs": [],
   "source": [
    "postal_code=\"https://en.wikipedia.org/wiki/List_of_postal_codes_of_Canada:_M\"\n"
   ]
  },
  {
   "cell_type": "code",
   "execution_count": 3,
   "metadata": {},
   "outputs": [],
   "source": [
    "import urllib.request\n",
    "with urllib.request.urlopen(postal_code) as url:\n",
    "    page = url.read()"
   ]
  },
  {
   "cell_type": "code",
   "execution_count": 4,
   "metadata": {},
   "outputs": [],
   "source": [
    "soup = BeautifulSoup(page,'lxml')"
   ]
  },
  {
   "cell_type": "code",
   "execution_count": 5,
   "metadata": {},
   "outputs": [],
   "source": [
    "name_box = soup.find('table', attrs={'class': 'wikitable sortable'})\n"
   ]
  },
  {
   "cell_type": "code",
   "execution_count": 6,
   "metadata": {},
   "outputs": [],
   "source": [
    "row_data = []"
   ]
  },
  {
   "cell_type": "code",
   "execution_count": 7,
   "metadata": {},
   "outputs": [
    {
     "name": "stdout",
     "output_type": "stream",
     "text": [
      "[]\n",
      "['M1A', 'Not assigned', 'Not assigned']\n",
      "['M2A', 'Not assigned', 'Not assigned']\n",
      "['M3A', 'North York', 'Parkwoods']\n",
      "['M4A', 'North York', 'Victoria Village']\n",
      "['M5A', 'Downtown Toronto', 'Harbourfront']\n",
      "['M5A', 'Downtown Toronto', 'Regent Park']\n",
      "['M6A', 'North York', 'Lawrence Heights']\n",
      "['M6A', 'North York', 'Lawrence Manor']\n",
      "['M7A', \"Queen's Park\", 'Not assigned']\n",
      "['M8A', 'Not assigned', 'Not assigned']\n",
      "['M9A', 'Etobicoke', 'Islington Avenue']\n",
      "['M1B', 'Scarborough', 'Rouge']\n",
      "['M1B', 'Scarborough', 'Malvern']\n",
      "['M2B', 'Not assigned', 'Not assigned']\n",
      "['M3B', 'North York', 'Don Mills North']\n",
      "['M4B', 'East York', 'Woodbine Gardens']\n",
      "['M4B', 'East York', 'Parkview Hill']\n",
      "['M5B', 'Downtown Toronto', 'Ryerson']\n",
      "['M5B', 'Downtown Toronto', 'Garden District']\n",
      "['M6B', 'North York', 'Glencairn']\n",
      "['M7B', 'Not assigned', 'Not assigned']\n",
      "['M8B', 'Not assigned', 'Not assigned']\n",
      "['M9B', 'Etobicoke', 'Cloverdale']\n",
      "['M9B', 'Etobicoke', 'Islington']\n",
      "['M9B', 'Etobicoke', 'Martin Grove']\n",
      "['M9B', 'Etobicoke', 'Princess Gardens']\n",
      "['M9B', 'Etobicoke', 'West Deane Park']\n",
      "['M1C', 'Scarborough', 'Highland Creek']\n",
      "['M1C', 'Scarborough', 'Rouge Hill']\n",
      "['M1C', 'Scarborough', 'Port Union']\n",
      "['M2C', 'Not assigned', 'Not assigned']\n",
      "['M3C', 'North York', 'Flemingdon Park']\n",
      "['M3C', 'North York', 'Don Mills South']\n",
      "['M4C', 'East York', 'Woodbine Heights']\n",
      "['M5C', 'Downtown Toronto', 'St. James Town']\n",
      "['M6C', 'York', 'Humewood-Cedarvale']\n",
      "['M7C', 'Not assigned', 'Not assigned']\n",
      "['M8C', 'Not assigned', 'Not assigned']\n",
      "['M9C', 'Etobicoke', 'Bloordale Gardens']\n",
      "['M9C', 'Etobicoke', 'Eringate']\n",
      "['M9C', 'Etobicoke', 'Markland Wood']\n",
      "['M9C', 'Etobicoke', 'Old Burnhamthorpe']\n",
      "['M1E', 'Scarborough', 'Guildwood']\n",
      "['M1E', 'Scarborough', 'Morningside']\n",
      "['M1E', 'Scarborough', 'West Hill']\n",
      "['M2E', 'Not assigned', 'Not assigned']\n",
      "['M3E', 'Not assigned', 'Not assigned']\n",
      "['M4E', 'East Toronto', 'The Beaches']\n",
      "['M5E', 'Downtown Toronto', 'Berczy Park']\n",
      "['M6E', 'York', 'Caledonia-Fairbanks']\n",
      "['M7E', 'Not assigned', 'Not assigned']\n",
      "['M8E', 'Not assigned', 'Not assigned']\n",
      "['M9E', 'Not assigned', 'Not assigned']\n",
      "['M1G', 'Scarborough', 'Woburn']\n",
      "['M2G', 'Not assigned', 'Not assigned']\n",
      "['M3G', 'Not assigned', 'Not assigned']\n",
      "['M4G', 'East York', 'Leaside']\n",
      "['M5G', 'Downtown Toronto', 'Central Bay Street']\n",
      "['M6G', 'Downtown Toronto', 'Christie']\n",
      "['M7G', 'Not assigned', 'Not assigned']\n",
      "['M8G', 'Not assigned', 'Not assigned']\n",
      "['M9G', 'Not assigned', 'Not assigned']\n",
      "['M1H', 'Scarborough', 'Cedarbrae']\n",
      "['M2H', 'North York', 'Hillcrest Village']\n",
      "['M3H', 'North York', 'Bathurst Manor']\n",
      "['M3H', 'North York', 'Downsview North']\n",
      "['M3H', 'North York', 'Wilson Heights']\n",
      "['M4H', 'East York', 'Thorncliffe Park']\n",
      "['M5H', 'Downtown Toronto', 'Adelaide']\n",
      "['M5H', 'Downtown Toronto', 'King']\n",
      "['M5H', 'Downtown Toronto', 'Richmond']\n",
      "['M6H', 'West Toronto', 'Dovercourt Village']\n",
      "['M6H', 'West Toronto', 'Dufferin']\n",
      "['M7H', 'Not assigned', 'Not assigned']\n",
      "['M8H', 'Not assigned', 'Not assigned']\n",
      "['M9H', 'Not assigned', 'Not assigned']\n",
      "['M1J', 'Scarborough', 'Scarborough Village']\n",
      "['M2J', 'North York', 'Fairview']\n",
      "['M2J', 'North York', 'Henry Farm']\n",
      "['M2J', 'North York', 'Oriole']\n",
      "['M3J', 'North York', 'Northwood Park']\n",
      "['M3J', 'North York', 'York University']\n",
      "['M4J', 'East York', 'East Toronto']\n",
      "['M5J', 'Downtown Toronto', 'Harbourfront East']\n",
      "['M5J', 'Downtown Toronto', 'Toronto Islands']\n",
      "['M5J', 'Downtown Toronto', 'Union Station']\n",
      "['M6J', 'West Toronto', 'Little Portugal']\n",
      "['M6J', 'West Toronto', 'Trinity']\n",
      "['M7J', 'Not assigned', 'Not assigned']\n",
      "['M8J', 'Not assigned', 'Not assigned']\n",
      "['M9J', 'Not assigned', 'Not assigned']\n",
      "['M1K', 'Scarborough', 'East Birchmount Park']\n",
      "['M1K', 'Scarborough', 'Ionview']\n",
      "['M1K', 'Scarborough', 'Kennedy Park']\n",
      "['M2K', 'North York', 'Bayview Village']\n",
      "['M3K', 'North York', 'CFB Toronto']\n",
      "['M3K', 'North York', 'Downsview East']\n",
      "['M4K', 'East Toronto', 'The Danforth West']\n",
      "['M4K', 'East Toronto', 'Riverdale']\n",
      "['M5K', 'Downtown Toronto', 'Design Exchange']\n",
      "['M5K', 'Downtown Toronto', 'Toronto Dominion Centre']\n",
      "['M6K', 'West Toronto', 'Brockton']\n",
      "['M6K', 'West Toronto', 'Exhibition Place']\n",
      "['M6K', 'West Toronto', 'Parkdale Village']\n",
      "['M7K', 'Not assigned', 'Not assigned']\n",
      "['M8K', 'Not assigned', 'Not assigned']\n",
      "['M9K', 'Not assigned', 'Not assigned']\n",
      "['M1L', 'Scarborough', 'Clairlea']\n",
      "['M1L', 'Scarborough', 'Golden Mile']\n",
      "['M1L', 'Scarborough', 'Oakridge']\n",
      "['M2L', 'North York', 'Silver Hills']\n",
      "['M2L', 'North York', 'York Mills']\n",
      "['M3L', 'North York', 'Downsview West']\n",
      "['M4L', 'East Toronto', 'The Beaches West']\n",
      "['M4L', 'East Toronto', 'India Bazaar']\n",
      "['M5L', 'Downtown Toronto', 'Commerce Court']\n",
      "['M5L', 'Downtown Toronto', 'Victoria Hotel']\n",
      "['M6L', 'North York', 'Maple Leaf Park']\n",
      "['M6L', 'North York', 'North Park']\n",
      "['M6L', 'North York', 'Upwood Park']\n",
      "['M7L', 'Not assigned', 'Not assigned']\n",
      "['M8L', 'Not assigned', 'Not assigned']\n",
      "['M9L', 'North York', 'Humber Summit']\n",
      "['M1M', 'Scarborough', 'Cliffcrest']\n",
      "['M1M', 'Scarborough', 'Cliffside']\n",
      "['M1M', 'Scarborough', 'Scarborough Village West']\n",
      "['M2M', 'North York', 'Newtonbrook']\n",
      "['M2M', 'North York', 'Willowdale']\n",
      "['M3M', 'North York', 'Downsview Central']\n",
      "['M4M', 'East Toronto', 'Studio District']\n",
      "['M5M', 'North York', 'Bedford Park']\n",
      "['M5M', 'North York', 'Lawrence Manor East']\n",
      "['M6M', 'York', 'Del Ray']\n",
      "['M6M', 'York', 'Keelesdale']\n",
      "['M6M', 'York', 'Mount Dennis']\n",
      "['M6M', 'York', 'Silverthorn']\n",
      "['M7M', 'Not assigned', 'Not assigned']\n",
      "['M8M', 'Not assigned', 'Not assigned']\n",
      "['M9M', 'North York', 'Emery']\n",
      "['M9M', 'North York', 'Humberlea']\n",
      "['M1N', 'Scarborough', 'Birch Cliff']\n",
      "['M1N', 'Scarborough', 'Cliffside West']\n",
      "['M2N', 'North York', 'Willowdale South']\n",
      "['M3N', 'North York', 'Downsview Northwest']\n",
      "['M4N', 'Central Toronto', 'Lawrence Park']\n",
      "['M5N', 'Central Toronto', 'Roselawn']\n",
      "['M6N', 'York', 'The Junction North']\n",
      "['M6N', 'York', 'Runnymede']\n",
      "['M7N', 'Not assigned', 'Not assigned']\n",
      "['M8N', 'Not assigned', 'Not assigned']\n",
      "['M9N', 'York', 'Weston']\n",
      "['M1P', 'Scarborough', 'Dorset Park']\n",
      "['M1P', 'Scarborough', 'Scarborough Town Centre']\n",
      "['M1P', 'Scarborough', 'Wexford Heights']\n",
      "['M2P', 'North York', 'York Mills West']\n",
      "['M3P', 'Not assigned', 'Not assigned']\n",
      "['M4P', 'Central Toronto', 'Davisville North']\n",
      "['M5P', 'Central Toronto', 'Forest Hill North']\n",
      "['M5P', 'Central Toronto', 'Forest Hill West']\n",
      "['M6P', 'West Toronto', 'High Park']\n",
      "['M6P', 'West Toronto', 'The Junction South']\n",
      "['M7P', 'Not assigned', 'Not assigned']\n",
      "['M8P', 'Not assigned', 'Not assigned']\n",
      "['M9P', 'Etobicoke', 'Westmount']\n",
      "['M1R', 'Scarborough', 'Maryvale']\n",
      "['M1R', 'Scarborough', 'Wexford']\n",
      "['M2R', 'North York', 'Willowdale West']\n",
      "['M3R', 'Not assigned', 'Not assigned']\n",
      "['M4R', 'Central Toronto', 'North Toronto West']\n",
      "['M5R', 'Central Toronto', 'The Annex']\n",
      "['M5R', 'Central Toronto', 'North Midtown']\n",
      "['M5R', 'Central Toronto', 'Yorkville']\n",
      "['M6R', 'West Toronto', 'Parkdale']\n",
      "['M6R', 'West Toronto', 'Roncesvalles']\n",
      "['M7R', 'Mississauga', 'Canada Post Gateway Processing Centre']\n",
      "['M8R', 'Not assigned', 'Not assigned']\n",
      "['M9R', 'Etobicoke', 'Kingsview Village']\n",
      "['M9R', 'Etobicoke', 'Martin Grove Gardens']\n",
      "['M9R', 'Etobicoke', 'Richview Gardens']\n",
      "['M9R', 'Etobicoke', 'St. Phillips']\n",
      "['M1S', 'Scarborough', 'Agincourt']\n",
      "['M2S', 'Not assigned', 'Not assigned']\n",
      "['M3S', 'Not assigned', 'Not assigned']\n",
      "['M4S', 'Central Toronto', 'Davisville']\n",
      "['M5S', 'Downtown Toronto', 'Harbord']\n",
      "['M5S', 'Downtown Toronto', 'University of Toronto']\n",
      "['M6S', 'West Toronto', 'Runnymede']\n",
      "['M6S', 'West Toronto', 'Swansea']\n",
      "['M7S', 'Not assigned', 'Not assigned']\n",
      "['M8S', 'Not assigned', 'Not assigned']\n",
      "['M9S', 'Not assigned', 'Not assigned']\n",
      "['M1T', 'Scarborough', 'Clarks Corners']\n",
      "['M1T', 'Scarborough', 'Sullivan']\n",
      "['M1T', 'Scarborough', \"Tam O'Shanter\"]\n",
      "['M2T', 'Not assigned', 'Not assigned']\n",
      "['M3T', 'Not assigned', 'Not assigned']\n",
      "['M4T', 'Central Toronto', 'Moore Park']\n",
      "['M4T', 'Central Toronto', 'Summerhill East']\n",
      "['M5T', 'Downtown Toronto', 'Chinatown']\n",
      "['M5T', 'Downtown Toronto', 'Grange Park']\n",
      "['M5T', 'Downtown Toronto', 'Kensington Market']\n",
      "['M6T', 'Not assigned', 'Not assigned']\n",
      "['M7T', 'Not assigned', 'Not assigned']\n",
      "['M8T', 'Not assigned', 'Not assigned']\n",
      "['M9T', 'Not assigned', 'Not assigned']\n",
      "['M1V', 'Scarborough', 'Agincourt North']\n",
      "['M1V', 'Scarborough', \"L'Amoreaux East\"]\n",
      "['M1V', 'Scarborough', 'Milliken']\n",
      "['M1V', 'Scarborough', 'Steeles East']\n",
      "['M2V', 'Not assigned', 'Not assigned']\n",
      "['M3V', 'Not assigned', 'Not assigned']\n",
      "['M4V', 'Central Toronto', 'Deer Park']\n",
      "['M4V', 'Central Toronto', 'Forest Hill SE']\n",
      "['M4V', 'Central Toronto', 'Rathnelly']\n",
      "['M4V', 'Central Toronto', 'South Hill']\n",
      "['M4V', 'Central Toronto', 'Summerhill West']\n",
      "['M5V', 'Downtown Toronto', 'CN Tower']\n",
      "['M5V', 'Downtown Toronto', 'Bathurst Quay']\n",
      "['M5V', 'Downtown Toronto', 'Island airport']\n",
      "['M5V', 'Downtown Toronto', 'Harbourfront West']\n",
      "['M5V', 'Downtown Toronto', 'King and Spadina']\n",
      "['M5V', 'Downtown Toronto', 'Railway Lands']\n",
      "['M5V', 'Downtown Toronto', 'South Niagara']\n",
      "['M6V', 'Not assigned', 'Not assigned']\n",
      "['M7V', 'Not assigned', 'Not assigned']\n",
      "['M8V', 'Etobicoke', 'Humber Bay Shores']\n",
      "['M8V', 'Etobicoke', 'Mimico South']\n",
      "['M8V', 'Etobicoke', 'New Toronto']\n",
      "['M9V', 'Etobicoke', 'Albion Gardens']\n",
      "['M9V', 'Etobicoke', 'Beaumond Heights']\n",
      "['M9V', 'Etobicoke', 'Humbergate']\n",
      "['M9V', 'Etobicoke', 'Jamestown']\n",
      "['M9V', 'Etobicoke', 'Mount Olive']\n",
      "['M9V', 'Etobicoke', 'Silverstone']\n",
      "['M9V', 'Etobicoke', 'South Steeles']\n",
      "['M9V', 'Etobicoke', 'Thistletown']\n",
      "['M1W', 'Scarborough', \"L'Amoreaux West\"]\n",
      "['M1W', 'Scarborough', 'Steeles West']\n",
      "['M2W', 'Not assigned', 'Not assigned']\n",
      "['M3W', 'Not assigned', 'Not assigned']\n",
      "['M4W', 'Downtown Toronto', 'Rosedale']\n",
      "['M5W', 'Downtown Toronto', 'Stn A PO Boxes 25 The Esplanade']\n",
      "['M6W', 'Not assigned', 'Not assigned']\n",
      "['M7W', 'Not assigned', 'Not assigned']\n",
      "['M8W', 'Etobicoke', 'Alderwood']\n",
      "['M8W', 'Etobicoke', 'Long Branch']\n",
      "['M9W', 'Etobicoke', 'Northwest']\n",
      "['M1X', 'Scarborough', 'Upper Rouge']\n",
      "['M2X', 'Not assigned', 'Not assigned']\n",
      "['M3X', 'Not assigned', 'Not assigned']\n",
      "['M4X', 'Downtown Toronto', 'Cabbagetown']\n",
      "['M4X', 'Downtown Toronto', 'St. James Town']\n",
      "['M5X', 'Downtown Toronto', 'First Canadian Place']\n",
      "['M5X', 'Downtown Toronto', 'Underground city']\n",
      "['M6X', 'Not assigned', 'Not assigned']\n",
      "['M7X', 'Not assigned', 'Not assigned']\n",
      "['M8X', 'Etobicoke', 'The Kingsway']\n",
      "['M8X', 'Etobicoke', 'Montgomery Road']\n",
      "['M8X', 'Etobicoke', 'Old Mill North']\n",
      "['M9X', 'Not assigned', 'Not assigned']\n",
      "['M1Y', 'Not assigned', 'Not assigned']\n",
      "['M2Y', 'Not assigned', 'Not assigned']\n",
      "['M3Y', 'Not assigned', 'Not assigned']\n",
      "['M4Y', 'Downtown Toronto', 'Church and Wellesley']\n",
      "['M5Y', 'Not assigned', 'Not assigned']\n",
      "['M6Y', 'Not assigned', 'Not assigned']\n",
      "['M7Y', 'East Toronto', 'Business Reply Mail Processing Centre 969 Eastern']\n",
      "['M8Y', 'Etobicoke', 'Humber Bay']\n",
      "['M8Y', 'Etobicoke', \"King's Mill Park\"]\n",
      "['M8Y', 'Etobicoke', 'Kingsway Park South East']\n",
      "['M8Y', 'Etobicoke', 'Mimico NE']\n",
      "['M8Y', 'Etobicoke', 'Old Mill South']\n",
      "['M8Y', 'Etobicoke', 'The Queensway East']\n",
      "['M8Y', 'Etobicoke', 'Royal York South East']\n",
      "['M8Y', 'Etobicoke', 'Sunnylea']\n",
      "['M9Y', 'Not assigned', 'Not assigned']\n",
      "['M1Z', 'Not assigned', 'Not assigned']\n",
      "['M2Z', 'Not assigned', 'Not assigned']\n",
      "['M3Z', 'Not assigned', 'Not assigned']\n",
      "['M4Z', 'Not assigned', 'Not assigned']\n",
      "['M5Z', 'Not assigned', 'Not assigned']\n",
      "['M6Z', 'Not assigned', 'Not assigned']\n",
      "['M7Z', 'Not assigned', 'Not assigned']\n",
      "['M8Z', 'Etobicoke', 'Kingsway Park South West']\n",
      "['M8Z', 'Etobicoke', 'Mimico NW']\n",
      "['M8Z', 'Etobicoke', 'The Queensway West']\n",
      "['M8Z', 'Etobicoke', 'Royal York South West']\n",
      "['M8Z', 'Etobicoke', 'South of Bloor']\n",
      "['M9Z', 'Not assigned', 'Not assigned']\n"
     ]
    }
   ],
   "source": [
    " for row in name_box.find_all('tr'):\n",
    "    cols = row.find_all(\"td\")\n",
    "    cols = [ele.text.strip() for ele in cols]\n",
    "    row_data.append(cols)\n",
    "    print(cols)"
   ]
  },
  {
   "cell_type": "markdown",
   "metadata": {},
   "source": [
    "#### Data pushed in datset "
   ]
  },
  {
   "cell_type": "code",
   "execution_count": 8,
   "metadata": {},
   "outputs": [],
   "source": [
    "dataset = pd.DataFrame(row_data)\n",
    "dataset= dataset.loc[1:289]\n",
    "dataset=dataset.reset_index()"
   ]
  },
  {
   "cell_type": "code",
   "execution_count": 9,
   "metadata": {},
   "outputs": [],
   "source": [
    "dataset=dataset[[0,1,2]]"
   ]
  },
  {
   "cell_type": "markdown",
   "metadata": {},
   "source": [
    "### 3. Create dataframe\n",
    "##### 3.1 The dataframe will consist of three columns: PostalCode, Borough, and Neighborhood"
   ]
  },
  {
   "cell_type": "code",
   "execution_count": 10,
   "metadata": {},
   "outputs": [],
   "source": [
    "#Renaming the columns\n",
    "dataset.columns=['PostalCode','Borough','Neighbourhood']"
   ]
  },
  {
   "cell_type": "markdown",
   "metadata": {},
   "source": [
    "##### 3.2 Only process the cells that have an assigned borough. Ignore cells with a borough that is Not assigned."
   ]
  },
  {
   "cell_type": "code",
   "execution_count": 11,
   "metadata": {},
   "outputs": [],
   "source": [
    "#Removing Boroughs which are not assgined\n",
    "dataset= dataset[(dataset['Borough']!='Not assigned')]"
   ]
  },
  {
   "cell_type": "code",
   "execution_count": 12,
   "metadata": {},
   "outputs": [],
   "source": [
    "dataset=dataset.reset_index(drop=True)"
   ]
  },
  {
   "cell_type": "markdown",
   "metadata": {},
   "source": [
    "##### 3.3 More than one neighborhood can exist in one postal code area. For example, in the table on the Wikipedia page, you will notice that M5A is listed twice and has two neighborhoods: Harbourfront and Regent Park. These two rows will be combined into one row with the neighborhoods separated with a comma as shown in row 11 in the above table."
   ]
  },
  {
   "cell_type": "code",
   "execution_count": 13,
   "metadata": {},
   "outputs": [
    {
     "data": {
      "text/html": [
       "<div>\n",
       "<style scoped>\n",
       "    .dataframe tbody tr th:only-of-type {\n",
       "        vertical-align: middle;\n",
       "    }\n",
       "\n",
       "    .dataframe tbody tr th {\n",
       "        vertical-align: top;\n",
       "    }\n",
       "\n",
       "    .dataframe thead th {\n",
       "        text-align: right;\n",
       "    }\n",
       "</style>\n",
       "<table border=\"1\" class=\"dataframe\">\n",
       "  <thead>\n",
       "    <tr style=\"text-align: right;\">\n",
       "      <th></th>\n",
       "      <th>PostalCode</th>\n",
       "      <th>Borough</th>\n",
       "      <th>Neighbourhood</th>\n",
       "    </tr>\n",
       "  </thead>\n",
       "  <tbody>\n",
       "    <tr>\n",
       "      <th>0</th>\n",
       "      <td>M1B</td>\n",
       "      <td>Scarborough</td>\n",
       "      <td>Malvern, Rouge</td>\n",
       "    </tr>\n",
       "    <tr>\n",
       "      <th>1</th>\n",
       "      <td>M1C</td>\n",
       "      <td>Scarborough</td>\n",
       "      <td>Rouge Hill, Highland Creek, Port Union</td>\n",
       "    </tr>\n",
       "    <tr>\n",
       "      <th>2</th>\n",
       "      <td>M1E</td>\n",
       "      <td>Scarborough</td>\n",
       "      <td>Guildwood, West Hill, Morningside</td>\n",
       "    </tr>\n",
       "    <tr>\n",
       "      <th>3</th>\n",
       "      <td>M1G</td>\n",
       "      <td>Scarborough</td>\n",
       "      <td>Woburn</td>\n",
       "    </tr>\n",
       "    <tr>\n",
       "      <th>4</th>\n",
       "      <td>M1H</td>\n",
       "      <td>Scarborough</td>\n",
       "      <td>Cedarbrae</td>\n",
       "    </tr>\n",
       "  </tbody>\n",
       "</table>\n",
       "</div>"
      ],
      "text/plain": [
       "  PostalCode      Borough                           Neighbourhood\n",
       "0        M1B  Scarborough                          Malvern, Rouge\n",
       "1        M1C  Scarborough  Rouge Hill, Highland Creek, Port Union\n",
       "2        M1E  Scarborough       Guildwood, West Hill, Morningside\n",
       "3        M1G  Scarborough                                  Woburn\n",
       "4        M1H  Scarborough                               Cedarbrae"
      ]
     },
     "execution_count": 13,
     "metadata": {},
     "output_type": "execute_result"
    }
   ],
   "source": [
    "dataset=dataset.groupby('PostalCode', as_index=False).agg(lambda x: ', '.join(set(x.dropna())))\n",
    "dataset.head()"
   ]
  },
  {
   "cell_type": "markdown",
   "metadata": {},
   "source": [
    "##### 3.4 If a cell has a borough but a Not assigned neighborhood, then the neighborhood will be the same as the borough. So for the 9th cell in the table on the Wikipedia page, the value of the Borough and the Neighborhood columns will be Queen's Park.\n"
   ]
  },
  {
   "cell_type": "code",
   "execution_count": 14,
   "metadata": {},
   "outputs": [],
   "source": [
    "for row_index,row in dataset.iterrows():\n",
    "    if(dataset.loc[row_index,['Neighbourhood']].values=='Not assigned'):\n",
    "        dataset.loc[row_index,['Neighbourhood']]=dataset.loc[row_index,['Borough']].values"
   ]
  },
  {
   "cell_type": "markdown",
   "metadata": {},
   "source": [
    "##### 3.6 Clean your Notebook and add Markdown cells to explain your work and any assumptions you are making\n",
    "Done :)"
   ]
  },
  {
   "cell_type": "markdown",
   "metadata": {},
   "source": [
    "##### 3.7 In the last cell of your notebook, use the .shape method to print the number of rows of your dataframe."
   ]
  },
  {
   "cell_type": "code",
   "execution_count": 15,
   "metadata": {},
   "outputs": [
    {
     "data": {
      "text/plain": [
       "(103, 3)"
      ]
     },
     "execution_count": 15,
     "metadata": {},
     "output_type": "execute_result"
    }
   ],
   "source": [
    "dataset.shape"
   ]
  },
  {
   "cell_type": "markdown",
   "metadata": {},
   "source": [
    "### Get the latitude and the longitude coordinates of each neighborhood.\n",
    "##### As Geocoder library was not responding, used csv provided"
   ]
  },
  {
   "cell_type": "code",
   "execution_count": 16,
   "metadata": {},
   "outputs": [],
   "source": [
    "geocoder=pd.read_csv(\"/Users/inema/Desktop/delete/Geospatial_Coordinates.csv\")"
   ]
  },
  {
   "cell_type": "code",
   "execution_count": 17,
   "metadata": {},
   "outputs": [
    {
     "data": {
      "text/html": [
       "<div>\n",
       "<style scoped>\n",
       "    .dataframe tbody tr th:only-of-type {\n",
       "        vertical-align: middle;\n",
       "    }\n",
       "\n",
       "    .dataframe tbody tr th {\n",
       "        vertical-align: top;\n",
       "    }\n",
       "\n",
       "    .dataframe thead th {\n",
       "        text-align: right;\n",
       "    }\n",
       "</style>\n",
       "<table border=\"1\" class=\"dataframe\">\n",
       "  <thead>\n",
       "    <tr style=\"text-align: right;\">\n",
       "      <th></th>\n",
       "      <th>Postal Code</th>\n",
       "      <th>Latitude</th>\n",
       "      <th>Longitude</th>\n",
       "    </tr>\n",
       "  </thead>\n",
       "  <tbody>\n",
       "    <tr>\n",
       "      <th>0</th>\n",
       "      <td>M1B</td>\n",
       "      <td>43.806686</td>\n",
       "      <td>-79.194353</td>\n",
       "    </tr>\n",
       "    <tr>\n",
       "      <th>1</th>\n",
       "      <td>M1C</td>\n",
       "      <td>43.784535</td>\n",
       "      <td>-79.160497</td>\n",
       "    </tr>\n",
       "    <tr>\n",
       "      <th>2</th>\n",
       "      <td>M1E</td>\n",
       "      <td>43.763573</td>\n",
       "      <td>-79.188711</td>\n",
       "    </tr>\n",
       "    <tr>\n",
       "      <th>3</th>\n",
       "      <td>M1G</td>\n",
       "      <td>43.770992</td>\n",
       "      <td>-79.216917</td>\n",
       "    </tr>\n",
       "    <tr>\n",
       "      <th>4</th>\n",
       "      <td>M1H</td>\n",
       "      <td>43.773136</td>\n",
       "      <td>-79.239476</td>\n",
       "    </tr>\n",
       "  </tbody>\n",
       "</table>\n",
       "</div>"
      ],
      "text/plain": [
       "  Postal Code   Latitude  Longitude\n",
       "0         M1B  43.806686 -79.194353\n",
       "1         M1C  43.784535 -79.160497\n",
       "2         M1E  43.763573 -79.188711\n",
       "3         M1G  43.770992 -79.216917\n",
       "4         M1H  43.773136 -79.239476"
      ]
     },
     "execution_count": 17,
     "metadata": {},
     "output_type": "execute_result"
    }
   ],
   "source": [
    "geocoder.head()"
   ]
  },
  {
   "cell_type": "markdown",
   "metadata": {},
   "source": [
    "##### Adding Geo cordinates"
   ]
  },
  {
   "cell_type": "code",
   "execution_count": 18,
   "metadata": {},
   "outputs": [],
   "source": [
    "dataset['Latitude'] = '0';\n",
    "dataset['Longitude'] = '0';\n",
    "for row_index,row in dataset.iterrows():\n",
    "    for grow_index,grow in geocoder.iterrows():\n",
    "        if(str(dataset.loc[row_index,['PostalCode']].values)==str(geocoder.loc[grow_index,['Postal Code']].values)):\n",
    "            dataset.loc[row_index,['Latitude']]=grow.Latitude\n",
    "            dataset.loc[row_index,['Longitude']]=grow.Longitude"
   ]
  },
  {
   "cell_type": "code",
   "execution_count": 19,
   "metadata": {},
   "outputs": [
    {
     "data": {
      "text/html": [
       "<div>\n",
       "<style scoped>\n",
       "    .dataframe tbody tr th:only-of-type {\n",
       "        vertical-align: middle;\n",
       "    }\n",
       "\n",
       "    .dataframe tbody tr th {\n",
       "        vertical-align: top;\n",
       "    }\n",
       "\n",
       "    .dataframe thead th {\n",
       "        text-align: right;\n",
       "    }\n",
       "</style>\n",
       "<table border=\"1\" class=\"dataframe\">\n",
       "  <thead>\n",
       "    <tr style=\"text-align: right;\">\n",
       "      <th></th>\n",
       "      <th>PostalCode</th>\n",
       "      <th>Borough</th>\n",
       "      <th>Neighbourhood</th>\n",
       "      <th>Latitude</th>\n",
       "      <th>Longitude</th>\n",
       "    </tr>\n",
       "  </thead>\n",
       "  <tbody>\n",
       "    <tr>\n",
       "      <th>0</th>\n",
       "      <td>M1B</td>\n",
       "      <td>Scarborough</td>\n",
       "      <td>Malvern, Rouge</td>\n",
       "      <td>43.8067</td>\n",
       "      <td>-79.1944</td>\n",
       "    </tr>\n",
       "    <tr>\n",
       "      <th>1</th>\n",
       "      <td>M1C</td>\n",
       "      <td>Scarborough</td>\n",
       "      <td>Rouge Hill, Highland Creek, Port Union</td>\n",
       "      <td>43.7845</td>\n",
       "      <td>-79.1605</td>\n",
       "    </tr>\n",
       "    <tr>\n",
       "      <th>2</th>\n",
       "      <td>M1E</td>\n",
       "      <td>Scarborough</td>\n",
       "      <td>Guildwood, West Hill, Morningside</td>\n",
       "      <td>43.7636</td>\n",
       "      <td>-79.1887</td>\n",
       "    </tr>\n",
       "    <tr>\n",
       "      <th>3</th>\n",
       "      <td>M1G</td>\n",
       "      <td>Scarborough</td>\n",
       "      <td>Woburn</td>\n",
       "      <td>43.771</td>\n",
       "      <td>-79.2169</td>\n",
       "    </tr>\n",
       "    <tr>\n",
       "      <th>4</th>\n",
       "      <td>M1H</td>\n",
       "      <td>Scarborough</td>\n",
       "      <td>Cedarbrae</td>\n",
       "      <td>43.7731</td>\n",
       "      <td>-79.2395</td>\n",
       "    </tr>\n",
       "  </tbody>\n",
       "</table>\n",
       "</div>"
      ],
      "text/plain": [
       "  PostalCode      Borough                           Neighbourhood Latitude  \\\n",
       "0        M1B  Scarborough                          Malvern, Rouge  43.8067   \n",
       "1        M1C  Scarborough  Rouge Hill, Highland Creek, Port Union  43.7845   \n",
       "2        M1E  Scarborough       Guildwood, West Hill, Morningside  43.7636   \n",
       "3        M1G  Scarborough                                  Woburn   43.771   \n",
       "4        M1H  Scarborough                               Cedarbrae  43.7731   \n",
       "\n",
       "  Longitude  \n",
       "0  -79.1944  \n",
       "1  -79.1605  \n",
       "2  -79.1887  \n",
       "3  -79.2169  \n",
       "4  -79.2395  "
      ]
     },
     "execution_count": 19,
     "metadata": {},
     "output_type": "execute_result"
    }
   ],
   "source": [
    "dataset.head()"
   ]
  },
  {
   "cell_type": "markdown",
   "metadata": {},
   "source": [
    "### Explore and cluster the neighborhoods in Toronto\n",
    "##### Boroughs that contain the word Toronto "
   ]
  },
  {
   "cell_type": "code",
   "execution_count": 20,
   "metadata": {},
   "outputs": [
    {
     "data": {
      "text/html": [
       "<div>\n",
       "<style scoped>\n",
       "    .dataframe tbody tr th:only-of-type {\n",
       "        vertical-align: middle;\n",
       "    }\n",
       "\n",
       "    .dataframe tbody tr th {\n",
       "        vertical-align: top;\n",
       "    }\n",
       "\n",
       "    .dataframe thead th {\n",
       "        text-align: right;\n",
       "    }\n",
       "</style>\n",
       "<table border=\"1\" class=\"dataframe\">\n",
       "  <thead>\n",
       "    <tr style=\"text-align: right;\">\n",
       "      <th></th>\n",
       "      <th>PostalCode</th>\n",
       "      <th>Borough</th>\n",
       "      <th>Neighbourhood</th>\n",
       "      <th>Latitude</th>\n",
       "      <th>Longitude</th>\n",
       "    </tr>\n",
       "  </thead>\n",
       "  <tbody>\n",
       "    <tr>\n",
       "      <th>37</th>\n",
       "      <td>M4E</td>\n",
       "      <td>East Toronto</td>\n",
       "      <td>The Beaches</td>\n",
       "      <td>43.6764</td>\n",
       "      <td>-79.293</td>\n",
       "    </tr>\n",
       "    <tr>\n",
       "      <th>41</th>\n",
       "      <td>M4K</td>\n",
       "      <td>East Toronto</td>\n",
       "      <td>Riverdale, The Danforth West</td>\n",
       "      <td>43.6796</td>\n",
       "      <td>-79.3522</td>\n",
       "    </tr>\n",
       "    <tr>\n",
       "      <th>42</th>\n",
       "      <td>M4L</td>\n",
       "      <td>East Toronto</td>\n",
       "      <td>The Beaches West, India Bazaar</td>\n",
       "      <td>43.669</td>\n",
       "      <td>-79.3156</td>\n",
       "    </tr>\n",
       "    <tr>\n",
       "      <th>43</th>\n",
       "      <td>M4M</td>\n",
       "      <td>East Toronto</td>\n",
       "      <td>Studio District</td>\n",
       "      <td>43.6595</td>\n",
       "      <td>-79.3409</td>\n",
       "    </tr>\n",
       "    <tr>\n",
       "      <th>44</th>\n",
       "      <td>M4N</td>\n",
       "      <td>Central Toronto</td>\n",
       "      <td>Lawrence Park</td>\n",
       "      <td>43.728</td>\n",
       "      <td>-79.3888</td>\n",
       "    </tr>\n",
       "  </tbody>\n",
       "</table>\n",
       "</div>"
      ],
      "text/plain": [
       "   PostalCode          Borough                   Neighbourhood Latitude  \\\n",
       "37        M4E     East Toronto                     The Beaches  43.6764   \n",
       "41        M4K     East Toronto    Riverdale, The Danforth West  43.6796   \n",
       "42        M4L     East Toronto  The Beaches West, India Bazaar   43.669   \n",
       "43        M4M     East Toronto                 Studio District  43.6595   \n",
       "44        M4N  Central Toronto                   Lawrence Park   43.728   \n",
       "\n",
       "   Longitude  \n",
       "37   -79.293  \n",
       "41  -79.3522  \n",
       "42  -79.3156  \n",
       "43  -79.3409  \n",
       "44  -79.3888  "
      ]
     },
     "execution_count": 20,
     "metadata": {},
     "output_type": "execute_result"
    }
   ],
   "source": [
    "df = dataset.copy()\n",
    "df = df[dataset.Borough.str.contains(\"Toronto\")]\n",
    "df.head()"
   ]
  },
  {
   "cell_type": "markdown",
   "metadata": {},
   "source": [
    "##### Generate maps to visualize your neighborhoods "
   ]
  },
  {
   "cell_type": "code",
   "execution_count": 21,
   "metadata": {},
   "outputs": [
    {
     "data": {
      "text/html": [
       "<div style=\"width:100%;\"><div style=\"position:relative;width:100%;height:0;padding-bottom:60%;\"><iframe src=\"data:text/html;charset=utf-8;base64,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\" style=\"position:absolute;width:100%;height:100%;left:0;top:0;border:none !important;\" allowfullscreen webkitallowfullscreen mozallowfullscreen></iframe></div></div>"
      ],
      "text/plain": [
       "<folium.folium.Map at 0x114a899b0>"
      ]
     },
     "execution_count": 21,
     "metadata": {},
     "output_type": "execute_result"
    }
   ],
   "source": [
    "toronto_map = folium.Map(location=[43.65, -79.4], zoom_start=12)\n",
    "\n",
    "X = df['Latitude']\n",
    "Y = df['Longitude']\n",
    "Z = np.stack((X, Y), axis=1)\n",
    "\n",
    "kmeans = KMeans(n_clusters=4, random_state=0).fit(Z)\n",
    "\n",
    "clusters = kmeans.labels_\n",
    "colors = ['red', 'green', 'blue', 'yellow']\n",
    "df['Cluster'] = clusters\n",
    "\n",
    "for latitude, longitude, borough, cluster in zip(df['Latitude'], df['Longitude'], df['Borough'], df['Cluster']):\n",
    "    label = folium.Popup(borough, parse_html=True)\n",
    "    folium.CircleMarker(\n",
    "        [latitude, longitude],\n",
    "        radius=5,\n",
    "        popup=label,\n",
    "        color='black',\n",
    "        fill=True,\n",
    "        fill_color=colors[cluster],\n",
    "        fill_opacity=0.7).add_to(toronto_map)  \n",
    "\n",
    "toronto_map"
   ]
  },
  {
   "cell_type": "code",
   "execution_count": null,
   "metadata": {},
   "outputs": [],
   "source": []
  }
 ],
 "metadata": {
  "kernelspec": {
   "display_name": "Python 3",
   "language": "python",
   "name": "python3"
  },
  "language_info": {
   "codemirror_mode": {
    "name": "ipython",
    "version": 3
   },
   "file_extension": ".py",
   "mimetype": "text/x-python",
   "name": "python",
   "nbconvert_exporter": "python",
   "pygments_lexer": "ipython3",
   "version": "3.6.4"
  }
 },
 "nbformat": 4,
 "nbformat_minor": 2
}
